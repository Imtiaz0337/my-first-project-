{
  "cells": [
    {
      "cell_type": "markdown",
      "metadata": {
        "id": "view-in-github",
        "colab_type": "text"
      },
      "source": [
        "<a href=\"https://colab.research.google.com/github/Imtiaz0337/my-first-project-/blob/main/my%20first%20project.ipynb\" target=\"_parent\"><img src=\"https://colab.research.google.com/assets/colab-badge.svg\" alt=\"Open In Colab\"/></a>"
      ]
    },
    {
      "cell_type": "code",
      "execution_count": null,
      "metadata": {
        "id": "2eCXrQN8n1Xa"
      },
      "outputs": [],
      "source": []
    },
    {
      "cell_type": "markdown",
      "metadata": {
        "id": "-cG376GMn4qG"
      },
      "source": [
        "1. Who developed Python Programming Language?"
      ]
    },
    {
      "cell_type": "code",
      "execution_count": null,
      "metadata": {
        "colab": {
          "base_uri": "https://localhost:8080/"
        },
        "id": "V5BNIRS5oarG",
        "outputId": "36392e4b-6258-426a-a387-bb110c92c220"
      },
      "outputs": [
        {
          "name": "stdout",
          "output_type": "stream",
          "text": [
            "Guido van Rossum\n"
          ]
        }
      ],
      "source": [
        "print (\"Guido van Rossum\")"
      ]
    },
    {
      "cell_type": "markdown",
      "metadata": {
        "id": "X92agW8eol9V"
      },
      "source": [
        "2. Which type of programming does python support?"
      ]
    },
    {
      "cell_type": "code",
      "execution_count": null,
      "metadata": {
        "colab": {
          "base_uri": "https://localhost:8080/"
        },
        "id": "BAfN9S70qZHb",
        "outputId": "c15bd3a3-da20-42ab-f7b6-575e5a579746"
      },
      "outputs": [
        {
          "name": "stdout",
          "output_type": "stream",
          "text": [
            "Python supports imperative, functional, procedural, and object-oriented\n"
          ]
        }
      ],
      "source": [
        "print('Python supports imperative, functional, procedural, and object-oriented')"
      ]
    },
    {
      "cell_type": "markdown",
      "metadata": {
        "id": "i1qzGGdrqmlN"
      },
      "source": [
        "3.Is Python case sensitive when dealing with identifiers?"
      ]
    },
    {
      "cell_type": "code",
      "execution_count": null,
      "metadata": {
        "colab": {
          "base_uri": "https://localhost:8080/"
        },
        "id": "6NuLE8-vquku",
        "outputId": "e0aeb777-96b4-46c6-ac4b-88cc264c3e1d"
      },
      "outputs": [
        {
          "name": "stdout",
          "output_type": "stream",
          "text": [
            "yes python is sensitive in upper or lower Case\n"
          ]
        }
      ],
      "source": [
        "print ('yes python is sensitive in upper or lower Case')"
      ]
    },
    {
      "cell_type": "markdown",
      "metadata": {
        "id": "ZP4cgboArKgN"
      },
      "source": [
        "What is the correct extension of Python file?"
      ]
    },
    {
      "cell_type": "code",
      "execution_count": null,
      "metadata": {
        "colab": {
          "base_uri": "https://localhost:8080/"
        },
        "id": "3iQ5aUxyrcBF",
        "outputId": "2aca1633-e809-40a7-a9c4-a4b9f031f839"
      },
      "outputs": [
        {
          "name": "stdout",
          "output_type": "stream",
          "text": [
            ".py\n"
          ]
        }
      ],
      "source": [
        "print('.py')"
      ]
    },
    {
      "cell_type": "markdown",
      "metadata": {
        "id": "AhURS03nrriF"
      },
      "source": [
        "5. Is Python code is compiled or interpreted?"
      ]
    },
    {
      "cell_type": "code",
      "execution_count": null,
      "metadata": {
        "colab": {
          "base_uri": "https://localhost:8080/"
        },
        "id": "dL6zfg76rxt-",
        "outputId": "fb94eab4-8010-403a-8a2b-103be8e862c7"
      },
      "outputs": [
        {
          "name": "stdout",
          "output_type": "stream",
          "text": [
            "yes python is interpreted language\n"
          ]
        }
      ],
      "source": [
        "print ('yes python is interpreted language')"
      ]
    },
    {
      "cell_type": "markdown",
      "metadata": {
        "id": "5aEUXu_Un2_2"
      },
      "source": [
        "Name a few blocks of code use to define in Python language."
      ]
    },
    {
      "cell_type": "code",
      "execution_count": null,
      "metadata": {
        "colab": {
          "base_uri": "https://localhost:8080/"
        },
        "id": "QBsLpjBYtPlr",
        "outputId": "0183d91d-791e-4fcf-9453-49eb09f23ac4"
      },
      "outputs": [
        {
          "output_type": "stream",
          "name": "stdout",
          "text": [
            "the following book are a function of body,amodule, \n"
          ]
        }
      ],
      "source": [
        "print ('the following book are a function of body,amodule, ')"
      ]
    },
    {
      "cell_type": "markdown",
      "source": [
        "8. Mention function which can help us to find the version of python that we are currently working on."
      ],
      "metadata": {
        "id": "C1g6JGcMzcSE"
      }
    },
    {
      "cell_type": "code",
      "source": [
        "print ('function sys.version')"
      ],
      "metadata": {
        "colab": {
          "base_uri": "https://localhost:8080/"
        },
        "id": "P43pGZnlzdKJ",
        "outputId": "ef07a907-602d-4882-944f-936336197f2a"
      },
      "execution_count": null,
      "outputs": [
        {
          "output_type": "stream",
          "name": "stdout",
          "text": [
            "function sys.version\n"
          ]
        }
      ]
    },
    {
      "cell_type": "markdown",
      "source": [
        "What does PIP stand for Python?"
      ],
      "metadata": {
        "id": "SJY7TUpSziLW"
      }
    },
    {
      "cell_type": "code",
      "source": [
        "print (' preferred installer program')"
      ],
      "metadata": {
        "colab": {
          "base_uri": "https://localhost:8080/"
        },
        "id": "pOJoOcASzqta",
        "outputId": "b9a5ebdc-2c1e-41fb-e9dd-316c231011c7"
      },
      "execution_count": null,
      "outputs": [
        {
          "output_type": "stream",
          "name": "stdout",
          "text": [
            " preferred installer program\n"
          ]
        }
      ]
    },
    {
      "cell_type": "markdown",
      "source": [
        "8Mention few built in function in python.\n",
        "\n",
        "\n",
        "\n",
        "There are some examples of built-in\n",
        "print( ) function.\n",
        "type( ) function.\n",
        "input( ) function.\n",
        "abs( ) function.\n",
        "pow( ) function.\n",
        "dir( ) function.\n",
        "sorted( )"
      ],
      "metadata": {
        "id": "9IY6MxvVzuSq"
      }
    },
    {
      "cell_type": "markdown",
      "source": [
        "What is maximum possible length of an identifier in Python?"
      ],
      "metadata": {
        "id": "2TePWm5-z2g5"
      }
    },
    {
      "cell_type": "code",
      "source": [
        "print ('79 character')"
      ],
      "metadata": {
        "colab": {
          "base_uri": "https://localhost:8080/"
        },
        "id": "Xs18Y_JOz6M4",
        "outputId": "d3862b6a-d839-4d17-e7e7-39df08358bfc"
      },
      "execution_count": null,
      "outputs": [
        {
          "output_type": "stream",
          "name": "stdout",
          "text": [
            "79 character\n"
          ]
        }
      ]
    },
    {
      "cell_type": "markdown",
      "source": [
        "12. What are the benefits of using Python?"
      ],
      "metadata": {
        "id": "N1Q6dHwLz9nI"
      }
    },
    {
      "cell_type": "code",
      "source": [
        "print (' Top Reasons to Learn Python Data science Scientific and mathematical computing Web development Finance and trading System automation and administration Computer graphics Basic game development Security and penetration testing')"
      ],
      "metadata": {
        "colab": {
          "base_uri": "https://localhost:8080/"
        },
        "id": "QKvb51Rh0A7o",
        "outputId": "2f2a1d8d-7305-44a3-d4cb-642f620a9f64"
      },
      "execution_count": null,
      "outputs": [
        {
          "output_type": "stream",
          "name": "stdout",
          "text": [
            " Top Reasons to Learn Python Data science Scientific and mathematical computing Web development Finance and trading System automation and administration Computer graphics Basic game development Security and penetration testing\n"
          ]
        }
      ]
    },
    {
      "cell_type": "code",
      "source": [],
      "metadata": {
        "id": "4BuE8iZ2ydSx"
      },
      "execution_count": null,
      "outputs": []
    }
  ],
  "metadata": {
    "colab": {
      "provenance": [],
      "authorship_tag": "ABX9TyNoAPuOoa5Ry9PuSBqEIS27",
      "include_colab_link": true
    },
    "kernelspec": {
      "display_name": "Python 3",
      "name": "python3"
    },
    "language_info": {
      "name": "python"
    }
  },
  "nbformat": 4,
  "nbformat_minor": 0
}